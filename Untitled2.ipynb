{
 "cells": [
  {
   "cell_type": "code",
   "execution_count": 1,
   "id": "e2afe618",
   "metadata": {},
   "outputs": [],
   "source": [
    "from seleniumbase import Driver\n",
    "from selenium.webdriver.common.by import By"
   ]
  },
  {
   "cell_type": "code",
   "execution_count": 2,
   "id": "c4c55623",
   "metadata": {},
   "outputs": [],
   "source": [
    "driver = Driver()"
   ]
  },
  {
   "cell_type": "code",
   "execution_count": 3,
   "id": "e8ca90a6",
   "metadata": {},
   "outputs": [],
   "source": [
    "import time"
   ]
  },
  {
   "cell_type": "code",
   "execution_count": 45,
   "id": "75d07a4b",
   "metadata": {},
   "outputs": [],
   "source": [
    "url=[]"
   ]
  },
  {
   "cell_type": "code",
   "execution_count": 35,
   "id": "dc3ac5dd",
   "metadata": {},
   "outputs": [],
   "source": [
    "for i in driver.find_elements(By.XPATH,\"//div[@class='yuRUbf']//a\"):\n",
    "    url.append(i.get_attribute(\"href\"))"
   ]
  },
  {
   "cell_type": "code",
   "execution_count": 60,
   "id": "fa9a4c8e",
   "metadata": {
    "scrolled": true
   },
   "outputs": [
    {
     "data": {
      "text/plain": [
       "['https://www.instagram.com/bxxyshoes/',\n",
       " 'https://www.instagram.com/funky.shoes_zone/',\n",
       " 'https://www.instagram.com/yogi7footwear/',\n",
       " 'https://www.instagram.com/mp_46_udeep_footwear/',\n",
       " 'https://www.instagram.com/hartiganshoes_official/',\n",
       " 'https://www.instagram.com/bagoach/p/CySS5cDJB3u/',\n",
       " 'https://www.instagram.com/svedshoes/',\n",
       " 'https://www.instagram.com/_bngofficial_/',\n",
       " 'https://www.instagram.com/kisjayenn/p/C6gEif-ynOC/',\n",
       " 'https://www.instagram.com/monkweilshoes/',\n",
       " 'https://www.instagram.com/p/C9jeRtjo1jP/',\n",
       " 'https://www.instagram.com/_u/rishtabyarjunsaluja/?utm_source=ig_embed&ig_rid=54fafb96-7cd3-4248-996f-293d5d999910&ig_mid=0A0AEF51-2159-4B90-AF2A-D4C18C3F53FA',\n",
       " 'https://www.instagram.com/ihsndigital/p/C9cUzYqTkIA/',\n",
       " 'https://l.instagram.com/?u=http%3A%2F%2Fwww.facebook.com%2Fmohammedsirajofficials&e=AT09GhUMQSnuyE8LgZlTSxzyvmTKWFIuBSkmEB8H9lDJVfvlrxhWJikDSIQwSUJFyM8tSxthPvLEZYI_ppwr143-XOMmXPTq',\n",
       " 'https://www.instagram.com/thesilentbong/',\n",
       " 'https://www.instagram.com/_u/mysolesisters/?utm_source=ig_embed&ig_rid=b9bdafb2-99f0-4aa5-a9d6-c1d5556c080b&ig_mid=618B4809-ECA6-426F-A489-BC1E0846B5B4',\n",
       " 'https://www.instagram.com/cobblershoesindia/reel/C6oSxnTMH0d/',\n",
       " 'https://www.instagram.com/bxxyshoes/',\n",
       " 'https://www.instagram.com/funky.shoes_zone/',\n",
       " 'https://www.instagram.com/yogi7footwear/',\n",
       " 'https://www.instagram.com/mp_46_udeep_footwear/',\n",
       " 'https://www.instagram.com/hartiganshoes_official/',\n",
       " 'https://www.instagram.com/bagoach/p/CySS5cDJB3u/',\n",
       " 'https://www.instagram.com/svedshoes/',\n",
       " 'https://www.instagram.com/_bngofficial_/',\n",
       " 'https://www.instagram.com/kisjayenn/p/C6gEif-ynOC/',\n",
       " 'https://www.instagram.com/monkweilshoes/',\n",
       " 'https://www.instagram.com/p/C9jeRtjo1jP/',\n",
       " 'https://www.instagram.com/_u/rishtabyarjunsaluja/?utm_source=ig_embed&ig_rid=54fafb96-7cd3-4248-996f-293d5d999910&ig_mid=0A0AEF51-2159-4B90-AF2A-D4C18C3F53FA',\n",
       " 'https://www.instagram.com/ihsndigital/p/C9cUzYqTkIA/',\n",
       " 'https://l.instagram.com/?u=http%3A%2F%2Fwww.facebook.com%2Fmohammedsirajofficials&e=AT09GhUMQSnuyE8LgZlTSxzyvmTKWFIuBSkmEB8H9lDJVfvlrxhWJikDSIQwSUJFyM8tSxthPvLEZYI_ppwr143-XOMmXPTq',\n",
       " 'https://www.instagram.com/thesilentbong/',\n",
       " 'https://www.instagram.com/_u/mysolesisters/?utm_source=ig_embed&ig_rid=b9bdafb2-99f0-4aa5-a9d6-c1d5556c080b&ig_mid=618B4809-ECA6-426F-A489-BC1E0846B5B4',\n",
       " 'https://www.instagram.com/cobblershoesindia/reel/C6oSxnTMH0d/',\n",
       " 'https://www.instagram.com/bxxyshoes/',\n",
       " 'https://www.instagram.com/funky.shoes_zone/',\n",
       " 'https://www.instagram.com/yogi7footwear/',\n",
       " 'https://www.instagram.com/mp_46_udeep_footwear/',\n",
       " 'https://www.instagram.com/hartiganshoes_official/',\n",
       " 'https://www.instagram.com/bagoach/p/CySS5cDJB3u/',\n",
       " 'https://www.instagram.com/svedshoes/',\n",
       " 'https://www.instagram.com/_bngofficial_/',\n",
       " 'https://www.instagram.com/kisjayenn/p/C6gEif-ynOC/',\n",
       " 'https://www.instagram.com/monkweilshoes/',\n",
       " 'https://www.instagram.com/p/C9jeRtjo1jP/',\n",
       " 'https://www.instagram.com/_u/rishtabyarjunsaluja/?utm_source=ig_embed&ig_rid=54fafb96-7cd3-4248-996f-293d5d999910&ig_mid=0A0AEF51-2159-4B90-AF2A-D4C18C3F53FA',\n",
       " 'https://www.instagram.com/ihsndigital/p/C9cUzYqTkIA/',\n",
       " 'https://l.instagram.com/?u=http%3A%2F%2Fwww.facebook.com%2Fmohammedsirajofficials&e=AT09GhUMQSnuyE8LgZlTSxzyvmTKWFIuBSkmEB8H9lDJVfvlrxhWJikDSIQwSUJFyM8tSxthPvLEZYI_ppwr143-XOMmXPTq',\n",
       " 'https://www.instagram.com/thesilentbong/',\n",
       " 'https://www.instagram.com/_u/mysolesisters/?utm_source=ig_embed&ig_rid=b9bdafb2-99f0-4aa5-a9d6-c1d5556c080b&ig_mid=618B4809-ECA6-426F-A489-BC1E0846B5B4',\n",
       " 'https://www.instagram.com/cobblershoesindia/reel/C6oSxnTMH0d/',\n",
       " 'https://www.instagram.com/bxxyshoes/',\n",
       " 'https://www.instagram.com/funky.shoes_zone/',\n",
       " 'https://www.instagram.com/yogi7footwear/',\n",
       " 'https://www.instagram.com/mp_46_udeep_footwear/',\n",
       " 'https://www.instagram.com/hartiganshoes_official/',\n",
       " 'https://www.instagram.com/bagoach/p/CySS5cDJB3u/',\n",
       " 'https://www.instagram.com/svedshoes/',\n",
       " 'https://www.instagram.com/_bngofficial_/',\n",
       " 'https://www.instagram.com/kisjayenn/p/C6gEif-ynOC/',\n",
       " 'https://www.instagram.com/monkweilshoes/',\n",
       " 'https://www.instagram.com/p/C9jeRtjo1jP/',\n",
       " 'https://www.instagram.com/_u/rishtabyarjunsaluja/?utm_source=ig_embed&ig_rid=54fafb96-7cd3-4248-996f-293d5d999910&ig_mid=0A0AEF51-2159-4B90-AF2A-D4C18C3F53FA',\n",
       " 'https://www.instagram.com/ihsndigital/p/C9cUzYqTkIA/',\n",
       " 'https://l.instagram.com/?u=http%3A%2F%2Fwww.facebook.com%2Fmohammedsirajofficials&e=AT09GhUMQSnuyE8LgZlTSxzyvmTKWFIuBSkmEB8H9lDJVfvlrxhWJikDSIQwSUJFyM8tSxthPvLEZYI_ppwr143-XOMmXPTq',\n",
       " 'https://www.instagram.com/thesilentbong/',\n",
       " 'https://www.instagram.com/_u/mysolesisters/?utm_source=ig_embed&ig_rid=b9bdafb2-99f0-4aa5-a9d6-c1d5556c080b&ig_mid=618B4809-ECA6-426F-A489-BC1E0846B5B4',\n",
       " 'https://www.instagram.com/cobblershoesindia/reel/C6oSxnTMH0d/',\n",
       " 'https://www.instagram.com/bxxyshoes/',\n",
       " 'https://www.instagram.com/funky.shoes_zone/',\n",
       " 'https://www.instagram.com/yogi7footwear/',\n",
       " 'https://www.instagram.com/mp_46_udeep_footwear/',\n",
       " 'https://www.instagram.com/hartiganshoes_official/',\n",
       " 'https://www.instagram.com/bagoach/p/CySS5cDJB3u/',\n",
       " 'https://www.instagram.com/svedshoes/',\n",
       " 'https://www.instagram.com/_bngofficial_/',\n",
       " 'https://www.instagram.com/kisjayenn/p/C6gEif-ynOC/',\n",
       " 'https://www.instagram.com/monkweilshoes/',\n",
       " 'https://www.instagram.com/p/C9jeRtjo1jP/',\n",
       " 'https://www.instagram.com/_u/rishtabyarjunsaluja/?utm_source=ig_embed&ig_rid=54fafb96-7cd3-4248-996f-293d5d999910&ig_mid=0A0AEF51-2159-4B90-AF2A-D4C18C3F53FA',\n",
       " 'https://www.instagram.com/ihsndigital/p/C9cUzYqTkIA/',\n",
       " 'https://l.instagram.com/?u=http%3A%2F%2Fwww.facebook.com%2Fmohammedsirajofficials&e=AT09GhUMQSnuyE8LgZlTSxzyvmTKWFIuBSkmEB8H9lDJVfvlrxhWJikDSIQwSUJFyM8tSxthPvLEZYI_ppwr143-XOMmXPTq',\n",
       " 'https://www.instagram.com/thesilentbong/',\n",
       " 'https://www.instagram.com/_u/mysolesisters/?utm_source=ig_embed&ig_rid=b9bdafb2-99f0-4aa5-a9d6-c1d5556c080b&ig_mid=618B4809-ECA6-426F-A489-BC1E0846B5B4',\n",
       " 'https://www.instagram.com/cobblershoesindia/reel/C6oSxnTMH0d/']"
      ]
     },
     "execution_count": 60,
     "metadata": {},
     "output_type": "execute_result"
    }
   ],
   "source": [
    "url"
   ]
  },
  {
   "cell_type": "code",
   "execution_count": 44,
   "id": "bb72b91f",
   "metadata": {},
   "outputs": [],
   "source": [
    "driver.find_element(By.XPATH,\"//td[@class='d6cvqb BBwThe']//a\").click()"
   ]
  },
  {
   "cell_type": "code",
   "execution_count": 79,
   "id": "cc4484d0",
   "metadata": {},
   "outputs": [],
   "source": [
    "driver.get(\"https://www.google.com/search?q=site%3Ainstagram.com+%22kurti%22+%22india%22+%22%40gmail.com%22&sca_esv=3e3d60d2c3960f0c&rlz=1C1CHZN_enIN1087IN1087&biw=1536&bih=703&sxsrf=ADLYWIJO3S9ElwfNTWwTeswGg3Eqq9ukrg%3A1724668791883&ei=d1vMZqHRNfmhnesP7sSJ2Ao&ved=0ahUKEwjh6Mf1u5KIAxX5UGcHHW5iAqsQ4dUDCA8&uact=5&oq=site%3Ainstagram.com+%22kurti%22+%22india%22+%22%40gmail.com%22&gs_lp=Egxnd3Mtd2l6LXNlcnAiL3NpdGU6aW5zdGFncmFtLmNvbSAia3VydGkiICJpbmRpYSIgIkBnbWFpbC5jb20iSPM_UJMGWIIxcAF4AJABAJgBwwGgAaITqgEEMC4xNLgBA8gBAPgBAZgCAKACAJgDAIgGAZIHAKAH9gQ&sclient=gws-wiz-serp\")"
   ]
  },
  {
   "cell_type": "code",
   "execution_count": 80,
   "id": "9dd8bde9",
   "metadata": {},
   "outputs": [],
   "source": [
    "url=[]\n",
    "for k in range(10):\n",
    "    for i in driver.find_elements(By.XPATH,\"//div[@class='yuRUbf']//a\"):\n",
    "        url.append(i.get_attribute(\"href\"))\n",
    "    driver.find_element(By.XPATH,\"//td[@class='d6cvqb BBwThe']//a\").click()\n",
    "    time.sleep(2)"
   ]
  },
  {
   "cell_type": "code",
   "execution_count": 48,
   "id": "559d733c",
   "metadata": {},
   "outputs": [],
   "source": [
    "driver.get(url[0])"
   ]
  },
  {
   "cell_type": "code",
   "execution_count": 50,
   "id": "585a9158",
   "metadata": {},
   "outputs": [],
   "source": [
    "import pandas as pd"
   ]
  },
  {
   "cell_type": "code",
   "execution_count": 83,
   "id": "d99c7812",
   "metadata": {},
   "outputs": [],
   "source": [
    "df1 = pd.DataFrame(url,columns=[\"urls\"])"
   ]
  },
  {
   "cell_type": "code",
   "execution_count": 91,
   "id": "c3a666b0",
   "metadata": {},
   "outputs": [],
   "source": [
    "df1['niche']= 'Kurti'"
   ]
  },
  {
   "cell_type": "code",
   "execution_count": 92,
   "id": "69701bc1",
   "metadata": {},
   "outputs": [],
   "source": [
    "df = pd.concat([df,df1])"
   ]
  },
  {
   "cell_type": "code",
   "execution_count": 94,
   "id": "558e9279",
   "metadata": {},
   "outputs": [
    {
     "data": {
      "text/plain": [
       "array(['gift', 'footwear', 'Electronic', 'Clothing', nan, 'Kurti'],\n",
       "      dtype=object)"
      ]
     },
     "execution_count": 94,
     "metadata": {},
     "output_type": "execute_result"
    }
   ],
   "source": [
    "df[\"niche\"].unique()"
   ]
  },
  {
   "cell_type": "code",
   "execution_count": 95,
   "id": "e4f92ce2",
   "metadata": {},
   "outputs": [
    {
     "data": {
      "text/html": [
       "<div>\n",
       "<style scoped>\n",
       "    .dataframe tbody tr th:only-of-type {\n",
       "        vertical-align: middle;\n",
       "    }\n",
       "\n",
       "    .dataframe tbody tr th {\n",
       "        vertical-align: top;\n",
       "    }\n",
       "\n",
       "    .dataframe thead th {\n",
       "        text-align: right;\n",
       "    }\n",
       "</style>\n",
       "<table border=\"1\" class=\"dataframe\">\n",
       "  <thead>\n",
       "    <tr style=\"text-align: right;\">\n",
       "      <th></th>\n",
       "      <th>urls</th>\n",
       "      <th>niche</th>\n",
       "    </tr>\n",
       "  </thead>\n",
       "  <tbody>\n",
       "    <tr>\n",
       "      <th>0</th>\n",
       "      <td>https://www.instagram.com/bespokegiftingstudio...</td>\n",
       "      <td>gift</td>\n",
       "    </tr>\n",
       "    <tr>\n",
       "      <th>1</th>\n",
       "      <td>https://www.instagram.com/bespokegiftingstudio...</td>\n",
       "      <td>gift</td>\n",
       "    </tr>\n",
       "    <tr>\n",
       "      <th>2</th>\n",
       "      <td>https://www.instagram.com/colormagix/p/C8rOtDl...</td>\n",
       "      <td>gift</td>\n",
       "    </tr>\n",
       "    <tr>\n",
       "      <th>3</th>\n",
       "      <td>https://www.instagram.com/bakedbymehak/p/C1qv_...</td>\n",
       "      <td>gift</td>\n",
       "    </tr>\n",
       "    <tr>\n",
       "      <th>4</th>\n",
       "      <td>https://www.instagram.com/vickyroy87/p/C3FUy28...</td>\n",
       "      <td>gift</td>\n",
       "    </tr>\n",
       "    <tr>\n",
       "      <th>...</th>\n",
       "      <td>...</td>\n",
       "      <td>...</td>\n",
       "    </tr>\n",
       "    <tr>\n",
       "      <th>11</th>\n",
       "      <td>https://www.instagram.com/sajjubynfl/</td>\n",
       "      <td>Kurti</td>\n",
       "    </tr>\n",
       "    <tr>\n",
       "      <th>12</th>\n",
       "      <td>https://www.instagram.com/garmentlinemagazine/...</td>\n",
       "      <td>Kurti</td>\n",
       "    </tr>\n",
       "    <tr>\n",
       "      <th>13</th>\n",
       "      <td>https://www.instagram.com/garmentlinemagazine/...</td>\n",
       "      <td>Kurti</td>\n",
       "    </tr>\n",
       "    <tr>\n",
       "      <th>14</th>\n",
       "      <td>https://www.instagram.com/sajwan_shalini/</td>\n",
       "      <td>Kurti</td>\n",
       "    </tr>\n",
       "    <tr>\n",
       "      <th>15</th>\n",
       "      <td>https://www.instagram.com/meenakshi_ammuz/</td>\n",
       "      <td>Kurti</td>\n",
       "    </tr>\n",
       "  </tbody>\n",
       "</table>\n",
       "<p>105 rows × 2 columns</p>\n",
       "</div>"
      ],
      "text/plain": [
       "                                                 urls  niche\n",
       "0   https://www.instagram.com/bespokegiftingstudio...   gift\n",
       "1   https://www.instagram.com/bespokegiftingstudio...   gift\n",
       "2   https://www.instagram.com/colormagix/p/C8rOtDl...   gift\n",
       "3   https://www.instagram.com/bakedbymehak/p/C1qv_...   gift\n",
       "4   https://www.instagram.com/vickyroy87/p/C3FUy28...   gift\n",
       "..                                                ...    ...\n",
       "11              https://www.instagram.com/sajjubynfl/  Kurti\n",
       "12  https://www.instagram.com/garmentlinemagazine/...  Kurti\n",
       "13  https://www.instagram.com/garmentlinemagazine/...  Kurti\n",
       "14          https://www.instagram.com/sajwan_shalini/  Kurti\n",
       "15         https://www.instagram.com/meenakshi_ammuz/  Kurti\n",
       "\n",
       "[105 rows x 2 columns]"
      ]
     },
     "execution_count": 95,
     "metadata": {},
     "output_type": "execute_result"
    }
   ],
   "source": [
    "df.drop_duplicates()"
   ]
  },
  {
   "cell_type": "code",
   "execution_count": 98,
   "id": "87c4afdb",
   "metadata": {},
   "outputs": [],
   "source": [
    "df.to_csv(\"urls_isnta.csv\")"
   ]
  },
  {
   "cell_type": "code",
   "execution_count": 99,
   "id": "8a2ff506",
   "metadata": {},
   "outputs": [
    {
     "data": {
      "text/html": [
       "<div>\n",
       "<style scoped>\n",
       "    .dataframe tbody tr th:only-of-type {\n",
       "        vertical-align: middle;\n",
       "    }\n",
       "\n",
       "    .dataframe tbody tr th {\n",
       "        vertical-align: top;\n",
       "    }\n",
       "\n",
       "    .dataframe thead th {\n",
       "        text-align: right;\n",
       "    }\n",
       "</style>\n",
       "<table border=\"1\" class=\"dataframe\">\n",
       "  <thead>\n",
       "    <tr style=\"text-align: right;\">\n",
       "      <th></th>\n",
       "      <th>urls</th>\n",
       "      <th>niche</th>\n",
       "    </tr>\n",
       "  </thead>\n",
       "  <tbody>\n",
       "    <tr>\n",
       "      <th>0</th>\n",
       "      <td>https://www.instagram.com/bespokegiftingstudio...</td>\n",
       "      <td>gift</td>\n",
       "    </tr>\n",
       "    <tr>\n",
       "      <th>1</th>\n",
       "      <td>https://www.instagram.com/bespokegiftingstudio...</td>\n",
       "      <td>gift</td>\n",
       "    </tr>\n",
       "    <tr>\n",
       "      <th>2</th>\n",
       "      <td>https://www.instagram.com/colormagix/p/C8rOtDl...</td>\n",
       "      <td>gift</td>\n",
       "    </tr>\n",
       "    <tr>\n",
       "      <th>3</th>\n",
       "      <td>https://www.instagram.com/bakedbymehak/p/C1qv_...</td>\n",
       "      <td>gift</td>\n",
       "    </tr>\n",
       "    <tr>\n",
       "      <th>4</th>\n",
       "      <td>https://www.instagram.com/vickyroy87/p/C3FUy28...</td>\n",
       "      <td>gift</td>\n",
       "    </tr>\n",
       "    <tr>\n",
       "      <th>...</th>\n",
       "      <td>...</td>\n",
       "      <td>...</td>\n",
       "    </tr>\n",
       "    <tr>\n",
       "      <th>75</th>\n",
       "      <td>https://www.instagram.com/sajjubynfl/</td>\n",
       "      <td>Kurti</td>\n",
       "    </tr>\n",
       "    <tr>\n",
       "      <th>76</th>\n",
       "      <td>https://www.instagram.com/garmentlinemagazine/...</td>\n",
       "      <td>Kurti</td>\n",
       "    </tr>\n",
       "    <tr>\n",
       "      <th>77</th>\n",
       "      <td>https://www.instagram.com/garmentlinemagazine/...</td>\n",
       "      <td>Kurti</td>\n",
       "    </tr>\n",
       "    <tr>\n",
       "      <th>78</th>\n",
       "      <td>https://www.instagram.com/sajwan_shalini/</td>\n",
       "      <td>Kurti</td>\n",
       "    </tr>\n",
       "    <tr>\n",
       "      <th>79</th>\n",
       "      <td>https://www.instagram.com/meenakshi_ammuz/</td>\n",
       "      <td>Kurti</td>\n",
       "    </tr>\n",
       "  </tbody>\n",
       "</table>\n",
       "<p>606 rows × 2 columns</p>\n",
       "</div>"
      ],
      "text/plain": [
       "                                                 urls  niche\n",
       "0   https://www.instagram.com/bespokegiftingstudio...   gift\n",
       "1   https://www.instagram.com/bespokegiftingstudio...   gift\n",
       "2   https://www.instagram.com/colormagix/p/C8rOtDl...   gift\n",
       "3   https://www.instagram.com/bakedbymehak/p/C1qv_...   gift\n",
       "4   https://www.instagram.com/vickyroy87/p/C3FUy28...   gift\n",
       "..                                                ...    ...\n",
       "75              https://www.instagram.com/sajjubynfl/  Kurti\n",
       "76  https://www.instagram.com/garmentlinemagazine/...  Kurti\n",
       "77  https://www.instagram.com/garmentlinemagazine/...  Kurti\n",
       "78          https://www.instagram.com/sajwan_shalini/  Kurti\n",
       "79         https://www.instagram.com/meenakshi_ammuz/  Kurti\n",
       "\n",
       "[606 rows x 2 columns]"
      ]
     },
     "execution_count": 99,
     "metadata": {},
     "output_type": "execute_result"
    }
   ],
   "source": [
    "df"
   ]
  },
  {
   "cell_type": "code",
   "execution_count": null,
   "id": "7686a6dc",
   "metadata": {},
   "outputs": [],
   "source": []
  }
 ],
 "metadata": {
  "kernelspec": {
   "display_name": "Python 3 (ipykernel)",
   "language": "python",
   "name": "python3"
  },
  "language_info": {
   "codemirror_mode": {
    "name": "ipython",
    "version": 3
   },
   "file_extension": ".py",
   "mimetype": "text/x-python",
   "name": "python",
   "nbconvert_exporter": "python",
   "pygments_lexer": "ipython3",
   "version": "3.11.5"
  }
 },
 "nbformat": 4,
 "nbformat_minor": 5
}
